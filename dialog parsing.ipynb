{
 "cells": [
  {
   "cell_type": "markdown",
   "id": "d248ddeb",
   "metadata": {},
   "source": [
    "# Bewise.ai\n",
    "\n",
    "# Тестовое задание на позицию \"Junior Data Scientist (NLP)\" \n",
    "\n",
    "Необходимо написать скрипт для парсинга диалогов из файла test_data.csv.\n",
    "\n",
    "Главные задачи, которые должен выполнять скрипт:\n",
    "\n",
    "Извлекать реплики с приветствием – где менеджер поздоровался. \n",
    "\n",
    "Извлекать реплики, где менеджер представил себя. \n",
    "\n",
    "Извлекать имя менеджера. \n",
    "\n",
    "Извлекать название компании. \n",
    "\n",
    "Извлекать реплики, где менеджер попрощался.\n",
    "\n",
    "Проверять требование к менеджеру: «В каждом диалоге обязательно необходимо поздороваться и попрощаться с клиентом»\n",
    "\n",
    "Рекомендации:\n",
    "\n",
    "Можно создать дополнительное поле в таблице test_data.csv, куда будет сохраняться результат парсинга – например, напротив реплики в столбце “insight” можно ставить флаг того, что эта реплика с приветствием greeting=True.\n",
    "Для выполнения задачи можно использовать любые библиотеки и NLP модели. \n",
    "Попробуйте учесть возможные синонимичные выражения, которые могут помочь с извлечением данных сущностей. "
   ]
  },
  {
   "cell_type": "markdown",
   "id": "fb33fdd2",
   "metadata": {},
   "source": [
    "Добрый день! Решение тестового задания приведено ниже:"
   ]
  },
  {
   "cell_type": "code",
   "execution_count": 1,
   "id": "5b33b1c6",
   "metadata": {},
   "outputs": [],
   "source": [
    "# импорт библиотек\n",
    "import pandas as pd\n",
    "import re\n",
    "\n",
    "pd.set_option('display.max_colwidth', None)  #текст в ячейке отражается полностью"
   ]
  },
  {
   "cell_type": "code",
   "execution_count": 2,
   "id": "d58db6ef",
   "metadata": {},
   "outputs": [],
   "source": [
    "# считаем в переменную файл\n",
    "test_data = pd.read_csv('test_data.csv')"
   ]
  },
  {
   "cell_type": "code",
   "execution_count": 3,
   "id": "e910c310",
   "metadata": {},
   "outputs": [
    {
     "data": {
      "text/plain": [
       "array([0, 1, 2, 3, 4, 5], dtype=int64)"
      ]
     },
     "execution_count": 3,
     "metadata": {},
     "output_type": "execute_result"
    }
   ],
   "source": [
    "test_data['dlg_id'].unique()"
   ]
  },
  {
   "cell_type": "markdown",
   "id": "a1b1cdb5",
   "metadata": {},
   "source": [
    "dlg_id  (dialog_id)- идентификатор диалога менеджера и клиента\n",
    "\n",
    "line_n - номер реплики в диалоге\n",
    "\n",
    "role -  роль собеседника, менеджер или клиент"
   ]
  },
  {
   "cell_type": "code",
   "execution_count": 4,
   "id": "d14afdc0",
   "metadata": {},
   "outputs": [
    {
     "data": {
      "text/plain": [
       "dlg_id    0\n",
       "line_n    0\n",
       "role      0\n",
       "text      0\n",
       "dtype: int64"
      ]
     },
     "execution_count": 4,
     "metadata": {},
     "output_type": "execute_result"
    }
   ],
   "source": [
    "test_data.isna().sum()"
   ]
  },
  {
   "cell_type": "markdown",
   "id": "ed7ea6e5",
   "metadata": {},
   "source": [
    "пропусков нет"
   ]
  },
  {
   "cell_type": "code",
   "execution_count": 5,
   "id": "0ba2b0c1",
   "metadata": {},
   "outputs": [
    {
     "data": {
      "text/plain": [
       "0"
      ]
     },
     "execution_count": 5,
     "metadata": {},
     "output_type": "execute_result"
    }
   ],
   "source": [
    "test_data.duplicated().sum()"
   ]
  },
  {
   "cell_type": "markdown",
   "id": "ea26122d",
   "metadata": {},
   "source": [
    "явных дубликатов нет"
   ]
  },
  {
   "cell_type": "markdown",
   "id": "3ac575cc",
   "metadata": {},
   "source": [
    "Необходимо учесть, что в компаниях обычно разрабатываются скрипты диалогов менеджеров с клиентами, допустим несколько моментов:\n",
    "\n",
    "1) Логично сначала поприветствовать клиента (номер реплики приветствия в рамках текущего диалога не должен превышать 3, в середине разговора уже не здороваются)\n",
    "\n",
    "2) Номер реплики прощания не может быть дальше 3 реплики с конца (условно, а лучше даже 1 реплика с конца у менеджера)\n",
    "\n",
    "3) Если менеджер представляется, то как правило звучит фраза \"меня зовут... \", \"это ...\", \"... зовут\",  \"я ...\" (последний шаблон можно отнести к деловому общению уже формально, в коде я его не буду использовать).  В дальнейшем в работе можно проконсультироваться с авторами скриптов для разговоров с клиентами, а также проанализировать частоты слов, встречающихся в первых репликах диалогов, и \"отловить\" другие шаблоны знакомства менеджеров, но на данном этапе будем использовать только эти\n",
    "\n",
    "4) название компании, как правило звучит в диалоге после слова \"компания ...\", но в данном случае, сложность представляет то, что мы не знаем, из скольки слов состоит название компании. В этом месте предполагаю составить заранее словарь названий компаний, и используя 1 слово после \"компания\" сопоставлять. Это может не сработать, если у менеджера в речи не прозвучало \"компания ...\", и если компании начинаются с одинакового слова. В данном тестовом примере данных таких ситуаций нет.\n",
    "\n",
    "5) для извлечения сущностей приветствия и прощания используем шаблоны реплик, с учетом того, что реплика может начинаться с заглавной буквы"
   ]
  },
  {
   "cell_type": "code",
   "execution_count": 6,
   "id": "d3ef6484",
   "metadata": {
    "scrolled": false
   },
   "outputs": [],
   "source": [
    "def define_manager_name(data, k):\n",
    "    \"\"\"\n",
    "    Функция определяет имя менеджера в текущем диалоге и индекс реплики, в которой прозвучало имя менеджера\n",
    "    :param data:        (DataFrame)\n",
    "                        датафрейм с исходными репликами  \n",
    "    :param k:           (int)\n",
    "                        id диалога\n",
    "    :return number_name, manager_name: номер реплики, имя менеджера\n",
    "    \"\"\"\n",
    "    try:\n",
    "        # фильтруем первые 4 строки, дальше искать имя менеджера бессмысленно (можно и меньше оставлять строк)\n",
    "        current = data[data['line_n']<=3]\n",
    "        current = current[current['role']=='manager']\n",
    "        #выбираем номер диалога и добавляем шаблоны для поиска имени, учитываем, что мы ищем имя менеджера, а не клиента\n",
    "        current = current[current['dlg_id']==k]['text'].str.extract(r'зовут (\\b\\w*\\b)|это (\\b\\w*\\b)| (\\b\\w*\\b) зовут') \n",
    "        # посмотрим, тк сформировался датафрейм, куда именно попали имена \n",
    "        # (тк в зависимости от порядка слова в строке, имя могло попасть в любой столбец), \n",
    "        # оставим только ту строчку, где есть имя\n",
    "        is_null = current.isnull()\n",
    "        current = current[~is_null.all(axis=1)]\n",
    "        is_na = current.isna()\n",
    "        #посмотрим теперь, на каком порядковом месте (определим столбец) оказалось имя (тк остальные значения будут пропущены)\n",
    "        my_filter = (is_na == False).any()\n",
    "        #индекс строки, в которой менеджер представился\n",
    "        id_manager_name = current.index[0] \n",
    "        #имя менеджера\n",
    "        manager_name = current.loc[id_manager_name][ my_filter].values[0]\n",
    "    except:\n",
    "        # может возникнуть исключение (если менеджер не представился)\n",
    "        id_manager_name = 'n \\ a' \n",
    "        manager_name = 'n \\ a'\n",
    "    return id_manager_name, manager_name"
   ]
  },
  {
   "cell_type": "code",
   "execution_count": 7,
   "id": "55d32aa1",
   "metadata": {},
   "outputs": [],
   "source": [
    "def define_company_name(data, k):\n",
    "    \"\"\"\n",
    "    Функция определяет название компании в текущем диалоге и индекс реплики, в которой отразилось название компании\n",
    "    :param data:        (DataFrame)\n",
    "                        датафрейм с исходными репликами  \n",
    "    :param k:           (int)\n",
    "                        id диалога\n",
    "    :return id_number_company, company_name: номер реплики, название компании\n",
    "    \"\"\"\n",
    "    try:\n",
    "        # заранее опишем возможные синонимы для названий компаний\n",
    "        company_names = {'диджитал бизнес':['диджитал','бизнес','диджитал бизнес'],'китобизнес':['китобизнес']}\n",
    "        \n",
    "        current = data[data['line_n']<=3]\n",
    "        current = current[current['role']=='manager']\n",
    "        current = current[current['dlg_id']== k]['text'].str.extract(r'компания (\\b\\w*\\b)') \n",
    "        is_null = current.isnull()\n",
    "        current = current[~is_null.all(axis=1)]\n",
    "        is_na = current.isna()\n",
    "        #посмотрим на каком порядковом месте оказалось название (тк остальные значения будут пропущены)\n",
    "        my_filter = (is_na == False).any()\n",
    "        #индекс строки, в которой прозвучало название компании\n",
    "        id_number_company = current.index[0] \n",
    "        #название компании\n",
    "        company_name = current.loc[id_number_company][ my_filter].values[0]\n",
    "        for name, syn in company_names.items():\n",
    "                if company_name in syn: company_name = name\n",
    "    except:\n",
    "        # может возникнуть исключение (если название компании не прозвучало)\n",
    "        id_number_company = 'n \\ a' \n",
    "        company_name = 'n \\ a'\n",
    "    return id_number_company, company_name"
   ]
  },
  {
   "cell_type": "code",
   "execution_count": 8,
   "id": "021ab262",
   "metadata": {},
   "outputs": [],
   "source": [
    "def define_greetings(data, k):\n",
    "    \"\"\"Функция определяет, поздоровался ли менеджер в текущем диалоге и индекс реплики приветствия\n",
    "    :param data:        (DataFrame)\n",
    "                        датафрейм с исходными репликами  \n",
    "    :param k:           (int)\n",
    "                        id диалога\n",
    "    :return greeting, id_greeting: флаг приветствия, id реплики\n",
    "    \"\"\"\n",
    "    try:\n",
    "        current = data[data['line_n']<=3]\n",
    "        current = current[current['role']=='manager']\n",
    "        current = current[current['dlg_id']== k]['text'].str.extract(r'(оброе утро|дравствуйте|обрый день|обрый вечер)') \n",
    "        is_null = current.isnull()\n",
    "        current = current[~is_null.all(axis=1)]\n",
    "        is_na = current.isna()\n",
    "        #посмотрим на каком порядковом месте оказалось приветствие\n",
    "        my_filter = (is_na == False).any()\n",
    "        if all(my_filter):\n",
    "            #индекс строки, в которой прозвучало приветствие\n",
    "            id_greeting = current.index[0] \n",
    "            # флаг приветствия\n",
    "            greeting = True\n",
    "        else: \n",
    "            id_greeting = 'n  \\ a'\n",
    "            greeting = False\n",
    "    except:\n",
    "        # если возникнет исключение в случае отсутствия приветствия\n",
    "        id_greeting = 'n  \\ a'\n",
    "        greeting = 'n  \\ a'\n",
    "    return id_greeting, greeting "
   ]
  },
  {
   "cell_type": "code",
   "execution_count": 9,
   "id": "0038c704",
   "metadata": {},
   "outputs": [],
   "source": [
    "def define_goodbyes(data, k):\n",
    "    \"\"\"Функция определяет, попрощался ли менеджер в текущем диалоге и индекс реплики прощания\n",
    "    :param data:        (DataFrame)\n",
    "                        датафрейм с исходными репликами  \n",
    "    :param k:           (int)\n",
    "                        id диалога\n",
    "    :return goodbye, id_goodbye: флаг прощания, id реплики\n",
    "    \"\"\"\n",
    "    try:\n",
    "        current = data[data['dlg_id']==k]\n",
    "        dlg_len = max(current['line_n'])\n",
    "        current = current[current['line_n'] >= dlg_len - 3] #берем только последние строчки диалога\n",
    "        current = current[current['role']=='manager']\n",
    "        current = current['text'].str.extract(r'(о свидания|сего доброго|орошего вечера|орошего дня|орошего утра)') \n",
    "        \n",
    "        is_null = current.isnull()\n",
    "        current = current[~is_null.all(axis=1)]\n",
    "        is_na = current.isna()\n",
    "        #посмотрим на каком порядковом месте оказалось прощание\n",
    "        my_filter = (is_na == False).any()\n",
    "        if all(my_filter):\n",
    "            #индекс строки, в которой прозвучало прощание\n",
    "            id_goodbye = current.index[0] \n",
    "            # флаг прощания\n",
    "            goodbye = True\n",
    "        else: \n",
    "            id_goodbye = 'n  \\ a'\n",
    "            goodbye = False\n",
    "    except:\n",
    "        # на случай возникновения исключения (не попрощался вообще)\n",
    "        id_goodbye = 'n  \\ a'\n",
    "        goodbye = 'n  \\ a'       \n",
    "    return id_goodbye, goodbye "
   ]
  },
  {
   "cell_type": "markdown",
   "id": "d84df171",
   "metadata": {},
   "source": [
    "Заведем словарь, значениями которого пока будут пустые списки"
   ]
  },
  {
   "cell_type": "code",
   "execution_count": 10,
   "id": "c2ef29e6",
   "metadata": {},
   "outputs": [],
   "source": [
    "politely = {}\n",
    "politely['dlg_id'] = []\n",
    "politely['id_manager_name'] = []\n",
    "politely['manager_name'] = []\n",
    "politely['greeting'] = []\n",
    "politely['id_greeting'] = []\n",
    "politely['goodbye'] = []\n",
    "politely['id_goodbye'] = []\n",
    "politely['company_name'] = []\n",
    "politely['id_company_name']=[]"
   ]
  },
  {
   "cell_type": "markdown",
   "id": "bac6c6ae",
   "metadata": {},
   "source": [
    "Заполним словарь:"
   ]
  },
  {
   "cell_type": "code",
   "execution_count": 11,
   "id": "2d5b21e1",
   "metadata": {},
   "outputs": [],
   "source": [
    "for i in test_data['dlg_id'].unique():\n",
    "    number_name, manager_name = define_manager_name(test_data, i)\n",
    "    id_number_company, company_name = define_company_name(test_data, i)\n",
    "    id_greeting, greeting = define_greetings(test_data, i)\n",
    "    id_goodbye, goodbye = define_goodbyes(test_data, i)\n",
    "    politely['dlg_id'].append(i) \n",
    "    politely['id_manager_name'].append(number_name)\n",
    "    politely['manager_name'].append(manager_name)\n",
    "    politely['company_name'].append(company_name)\n",
    "    politely['id_company_name'].append(id_number_company)\n",
    "    politely['greeting'].append(greeting)\n",
    "    politely['id_greeting'].append(id_greeting)\n",
    "    politely['goodbye'].append(goodbye)\n",
    "    politely['id_goodbye'].append(id_goodbye)"
   ]
  },
  {
   "cell_type": "code",
   "execution_count": 12,
   "id": "6cb5dca5",
   "metadata": {},
   "outputs": [],
   "source": [
    "def polite_manager(row):\n",
    "    \"\"\"Функция определяет, выполняется ли требование и приветствия, и прощания в диалоге\n",
    "    :param row:        (DataFrame)\n",
    "                        строка датафрейма, к которой применяется функция\n",
    "    :return polite: флаг вежливости\n",
    "    \"\"\"\n",
    "    return row['greeting'] and row['goodbye']"
   ]
  },
  {
   "cell_type": "markdown",
   "id": "cff56600",
   "metadata": {},
   "source": [
    "Составим из нашего словаря датафрейм для наглядности.\n",
    "\n",
    "Данный датафрейм и является результатом работы скрипта, приммененному к тестовым данным."
   ]
  },
  {
   "cell_type": "code",
   "execution_count": 13,
   "id": "4b159401",
   "metadata": {},
   "outputs": [
    {
     "data": {
      "text/html": [
       "<div>\n",
       "<style scoped>\n",
       "    .dataframe tbody tr th:only-of-type {\n",
       "        vertical-align: middle;\n",
       "    }\n",
       "\n",
       "    .dataframe tbody tr th {\n",
       "        vertical-align: top;\n",
       "    }\n",
       "\n",
       "    .dataframe thead th {\n",
       "        text-align: right;\n",
       "    }\n",
       "</style>\n",
       "<table border=\"1\" class=\"dataframe\">\n",
       "  <thead>\n",
       "    <tr style=\"text-align: right;\">\n",
       "      <th></th>\n",
       "      <th>dlg_id</th>\n",
       "      <th>id_manager_name</th>\n",
       "      <th>manager_name</th>\n",
       "      <th>greeting</th>\n",
       "      <th>id_greeting</th>\n",
       "      <th>goodbye</th>\n",
       "      <th>id_goodbye</th>\n",
       "      <th>company_name</th>\n",
       "      <th>id_company_name</th>\n",
       "      <th>polite_manager</th>\n",
       "    </tr>\n",
       "  </thead>\n",
       "  <tbody>\n",
       "    <tr>\n",
       "      <th>0</th>\n",
       "      <td>0</td>\n",
       "      <td>3</td>\n",
       "      <td>ангелина</td>\n",
       "      <td>True</td>\n",
       "      <td>1</td>\n",
       "      <td>True</td>\n",
       "      <td>108</td>\n",
       "      <td>диджитал бизнес</td>\n",
       "      <td>3</td>\n",
       "      <td>True</td>\n",
       "    </tr>\n",
       "    <tr>\n",
       "      <th>1</th>\n",
       "      <td>1</td>\n",
       "      <td>111</td>\n",
       "      <td>ангелина</td>\n",
       "      <td>True</td>\n",
       "      <td>110</td>\n",
       "      <td>True</td>\n",
       "      <td>163</td>\n",
       "      <td>диджитал бизнес</td>\n",
       "      <td>111</td>\n",
       "      <td>True</td>\n",
       "    </tr>\n",
       "    <tr>\n",
       "      <th>2</th>\n",
       "      <td>2</td>\n",
       "      <td>167</td>\n",
       "      <td>ангелина</td>\n",
       "      <td>True</td>\n",
       "      <td>166</td>\n",
       "      <td>False</td>\n",
       "      <td>n  \\ a</td>\n",
       "      <td>диджитал бизнес</td>\n",
       "      <td>167</td>\n",
       "      <td>False</td>\n",
       "    </tr>\n",
       "    <tr>\n",
       "      <th>3</th>\n",
       "      <td>3</td>\n",
       "      <td>251</td>\n",
       "      <td>максим</td>\n",
       "      <td>True</td>\n",
       "      <td>250</td>\n",
       "      <td>True</td>\n",
       "      <td>300</td>\n",
       "      <td>китобизнес</td>\n",
       "      <td>251</td>\n",
       "      <td>True</td>\n",
       "    </tr>\n",
       "    <tr>\n",
       "      <th>4</th>\n",
       "      <td>4</td>\n",
       "      <td>n \\ a</td>\n",
       "      <td>n \\ a</td>\n",
       "      <td>False</td>\n",
       "      <td>n  \\ a</td>\n",
       "      <td>True</td>\n",
       "      <td>335</td>\n",
       "      <td>n \\ a</td>\n",
       "      <td>n \\ a</td>\n",
       "      <td>False</td>\n",
       "    </tr>\n",
       "    <tr>\n",
       "      <th>5</th>\n",
       "      <td>5</td>\n",
       "      <td>338</td>\n",
       "      <td>анастасия</td>\n",
       "      <td>False</td>\n",
       "      <td>n  \\ a</td>\n",
       "      <td>True</td>\n",
       "      <td>479</td>\n",
       "      <td>n \\ a</td>\n",
       "      <td>n \\ a</td>\n",
       "      <td>False</td>\n",
       "    </tr>\n",
       "  </tbody>\n",
       "</table>\n",
       "</div>"
      ],
      "text/plain": [
       "   dlg_id id_manager_name manager_name  greeting id_greeting  goodbye  \\\n",
       "0       0               3     ангелина      True           1     True   \n",
       "1       1             111     ангелина      True         110     True   \n",
       "2       2             167     ангелина      True         166    False   \n",
       "3       3             251       максим      True         250     True   \n",
       "4       4           n \\ a        n \\ a     False      n  \\ a     True   \n",
       "5       5             338    анастасия     False      n  \\ a     True   \n",
       "\n",
       "  id_goodbye     company_name id_company_name  polite_manager  \n",
       "0        108  диджитал бизнес               3            True  \n",
       "1        163  диджитал бизнес             111            True  \n",
       "2     n  \\ a  диджитал бизнес             167           False  \n",
       "3        300       китобизнес             251            True  \n",
       "4        335            n \\ a           n \\ a           False  \n",
       "5        479            n \\ a           n \\ a           False  "
      ]
     },
     "execution_count": 13,
     "metadata": {},
     "output_type": "execute_result"
    }
   ],
   "source": [
    "df = pd.DataFrame(politely)\n",
    "df['polite_manager'] = df.apply(polite_manager, axis = 1) \n",
    "df"
   ]
  },
  {
   "cell_type": "markdown",
   "id": "ae83ff67",
   "metadata": {},
   "source": [
    "# Выводы:\n",
    "\n",
    "Результат парсинга указанных диалогов удалось структурировать в отдельный датафрейм. В нем мы видим, что Ангелина - самый вежливый менеджер, во всех трех диалогах она представилась, в 2 и поздоровалась и попрощалась, и везде озвучила название компании.\n",
    "\n",
    "Самый некорректный менеджер - это менеджер в диалоге с id = 4, он не поздоровался, не попрощался,  и не назвал компанию.\n",
    "\n",
    "Максим и Анастасия сработали примерно одинаково, допуская некоторые несовпадающие ошибки (есть, куда расти).\n",
    "\n",
    "При выполнении тестового задания я использовала книгу Б. Форта \"Освой самостоятельно регулярные выражения. 10 минут на урок\" и Х. Лейн, Х. Хапке, К. Ховард \"Обработка естественного языка в действии\", статьи в сети на тему делового общения по телефону, а также элементы кода, написанного мною при выполнении проектов в Яндекс Практикуме.\n",
    "\n",
    "Данное тестовое задание я выполнила примерно за 1,5 рабочих дня (12 часов), в оставшееся время до 4 сентября планирую подумать над другим решением, используя библиотеку SpaCy.\n"
   ]
  },
  {
   "cell_type": "code",
   "execution_count": null,
   "id": "f5d50ab8",
   "metadata": {},
   "outputs": [],
   "source": []
  }
 ],
 "metadata": {
  "kernelspec": {
   "display_name": "Python 3 (ipykernel)",
   "language": "python",
   "name": "python3"
  },
  "language_info": {
   "codemirror_mode": {
    "name": "ipython",
    "version": 3
   },
   "file_extension": ".py",
   "mimetype": "text/x-python",
   "name": "python",
   "nbconvert_exporter": "python",
   "pygments_lexer": "ipython3",
   "version": "3.9.12"
  }
 },
 "nbformat": 4,
 "nbformat_minor": 5
}
